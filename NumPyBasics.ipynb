{
  "nbformat": 4,
  "nbformat_minor": 0,
  "metadata": {
    "colab": {
      "provenance": []
    },
    "kernelspec": {
      "name": "python3",
      "display_name": "Python 3"
    },
    "language_info": {
      "name": "python"
    }
  },
  "cells": [
    {
      "cell_type": "code",
      "execution_count": 2,
      "metadata": {
        "id": "8siCtZB-r4Qp"
      },
      "outputs": [],
      "source": [
        "import numpy as np"
      ]
    },
    {
      "cell_type": "markdown",
      "source": [
        "# Ordinary Python Syntax VS NumPy\n"
      ],
      "metadata": {
        "id": "r2k9RsT1se3I"
      }
    },
    {
      "cell_type": "code",
      "source": [
        "# This is an ordinary python syntax\n",
        "a = [1, 2, 3, 4, 5, 6]\n",
        "print(a)"
      ],
      "metadata": {
        "colab": {
          "base_uri": "https://localhost:8080/"
        },
        "id": "IyuG5q2esWuz",
        "outputId": "2f13cf08-3707-48b7-e2f7-734b4ffe25a7"
      },
      "execution_count": 3,
      "outputs": [
        {
          "output_type": "stream",
          "name": "stdout",
          "text": [
            "[1, 2, 3, 4, 5, 6]\n"
          ]
        }
      ]
    },
    {
      "cell_type": "code",
      "source": [
        "print(a[1])"
      ],
      "metadata": {
        "colab": {
          "base_uri": "https://localhost:8080/"
        },
        "id": "zXfI4TzSuFDN",
        "outputId": "8ad16ea0-4dce-4948-eb24-51722076b2f4"
      },
      "execution_count": 4,
      "outputs": [
        {
          "output_type": "stream",
          "name": "stdout",
          "text": [
            "2\n"
          ]
        }
      ]
    },
    {
      "cell_type": "code",
      "source": [
        "print(a[1:4])"
      ],
      "metadata": {
        "colab": {
          "base_uri": "https://localhost:8080/"
        },
        "id": "8MLvrf8SuKsS",
        "outputId": "5724e6bb-a1c8-4080-a2f8-10e7284ac63d"
      },
      "execution_count": 5,
      "outputs": [
        {
          "output_type": "stream",
          "name": "stdout",
          "text": [
            "[2, 3, 4]\n"
          ]
        }
      ]
    },
    {
      "cell_type": "code",
      "source": [
        "print(a[-1])"
      ],
      "metadata": {
        "colab": {
          "base_uri": "https://localhost:8080/"
        },
        "id": "aDrfDzm-uL1S",
        "outputId": "22d4e1c4-e612-44e3-efac-5f747f8c2bf5"
      },
      "execution_count": 6,
      "outputs": [
        {
          "output_type": "stream",
          "name": "stdout",
          "text": [
            "6\n"
          ]
        }
      ]
    },
    {
      "cell_type": "markdown",
      "source": [
        "# Array Attributes"
      ],
      "metadata": {
        "id": "xZn108W0s_2-"
      }
    },
    {
      "cell_type": "code",
      "source": [
        "# Same can be done with numpy\n",
        "a = np.array([1,2,3,4,5,6])\n",
        "print(a)"
      ],
      "metadata": {
        "colab": {
          "base_uri": "https://localhost:8080/"
        },
        "id": "pXMsxNcds3DS",
        "outputId": "b1e0a28d-7112-4200-91d7-49a3479cb43a"
      },
      "execution_count": 7,
      "outputs": [
        {
          "output_type": "stream",
          "name": "stdout",
          "text": [
            "[1 2 3 4 5 6]\n"
          ]
        }
      ]
    },
    {
      "cell_type": "code",
      "source": [
        "print(type(a))"
      ],
      "metadata": {
        "colab": {
          "base_uri": "https://localhost:8080/"
        },
        "id": "BXzSpeWRtS1D",
        "outputId": "81eb27ad-fdb8-478c-f167-df696462e09a"
      },
      "execution_count": 8,
      "outputs": [
        {
          "output_type": "stream",
          "name": "stdout",
          "text": [
            "<class 'numpy.ndarray'>\n"
          ]
        }
      ]
    },
    {
      "cell_type": "code",
      "source": [
        "print(a[1])"
      ],
      "metadata": {
        "colab": {
          "base_uri": "https://localhost:8080/"
        },
        "id": "sD5Z_vPEtw4X",
        "outputId": "82182b2d-1934-4329-9ff0-81f97e027fa3"
      },
      "execution_count": 9,
      "outputs": [
        {
          "output_type": "stream",
          "name": "stdout",
          "text": [
            "2\n"
          ]
        }
      ]
    },
    {
      "cell_type": "code",
      "source": [
        "print(a[1:])"
      ],
      "metadata": {
        "colab": {
          "base_uri": "https://localhost:8080/"
        },
        "id": "LqaH8XhLuP77",
        "outputId": "241a5ea7-6975-4396-b2e0-ff5283ad3515"
      },
      "execution_count": 10,
      "outputs": [
        {
          "output_type": "stream",
          "name": "stdout",
          "text": [
            "[2 3 4 5 6]\n"
          ]
        }
      ]
    },
    {
      "cell_type": "code",
      "source": [
        "print(a[:-2])"
      ],
      "metadata": {
        "colab": {
          "base_uri": "https://localhost:8080/"
        },
        "id": "9ZRhiOSiuS40",
        "outputId": "3003efc2-e61e-41de-c296-552cd09ae98b"
      },
      "execution_count": 11,
      "outputs": [
        {
          "output_type": "stream",
          "name": "stdout",
          "text": [
            "[1 2 3 4]\n"
          ]
        }
      ]
    },
    {
      "cell_type": "code",
      "source": [
        "a[2] = 10\n",
        "print(a)"
      ],
      "metadata": {
        "colab": {
          "base_uri": "https://localhost:8080/"
        },
        "id": "rYMsJ1NMuZM4",
        "outputId": "4cb98ff9-c17c-496d-b1ae-0e41a252d075"
      },
      "execution_count": 12,
      "outputs": [
        {
          "output_type": "stream",
          "name": "stdout",
          "text": [
            "[ 1  2 10  4  5  6]\n"
          ]
        }
      ]
    },
    {
      "cell_type": "code",
      "source": [
        "a_mul = np.array([[1,2,3],[4,5,6], [7, 8, 9]])"
      ],
      "metadata": {
        "id": "27LxrBlVuom2"
      },
      "execution_count": 13,
      "outputs": []
    },
    {
      "cell_type": "code",
      "source": [
        "print(a_mul[0])"
      ],
      "metadata": {
        "colab": {
          "base_uri": "https://localhost:8080/"
        },
        "id": "WQ9ONyEQvDHB",
        "outputId": "e252f124-59e4-403a-b6a9-9c7f09694897"
      },
      "execution_count": 14,
      "outputs": [
        {
          "output_type": "stream",
          "name": "stdout",
          "text": [
            "[1 2 3]\n"
          ]
        }
      ]
    },
    {
      "cell_type": "code",
      "source": [
        "print(a_mul[0, 1])"
      ],
      "metadata": {
        "colab": {
          "base_uri": "https://localhost:8080/"
        },
        "id": "MeJBRLY1vLrY",
        "outputId": "d84640b5-06c6-4f35-fc58-0aa0a2ee1356"
      },
      "execution_count": 15,
      "outputs": [
        {
          "output_type": "stream",
          "name": "stdout",
          "text": [
            "2\n"
          ]
        }
      ]
    },
    {
      "cell_type": "code",
      "source": [
        "print(a_mul[0][1])"
      ],
      "metadata": {
        "colab": {
          "base_uri": "https://localhost:8080/"
        },
        "id": "RA95KKE3vJWL",
        "outputId": "c0a092b4-cb42-4371-9857-3c267c5dbf55"
      },
      "execution_count": 16,
      "outputs": [
        {
          "output_type": "stream",
          "name": "stdout",
          "text": [
            "2\n"
          ]
        }
      ]
    },
    {
      "cell_type": "code",
      "source": [
        "print(a_mul.shape)"
      ],
      "metadata": {
        "colab": {
          "base_uri": "https://localhost:8080/"
        },
        "id": "S-FizB6zvP34",
        "outputId": "170479a3-bb54-447b-f4b5-280f25b44055"
      },
      "execution_count": 17,
      "outputs": [
        {
          "output_type": "stream",
          "name": "stdout",
          "text": [
            "(3, 3)\n"
          ]
        }
      ]
    },
    {
      "cell_type": "markdown",
      "source": [
        "A more complex numpy array"
      ],
      "metadata": {
        "id": "LHmaL34WwvUG"
      }
    },
    {
      "cell_type": "code",
      "source": [
        "a_mul = np.array([[[1,2,3,1],[4,5,6,1], [7,8,9,1]], [[1,1,1,1],[1,1,1,1],[1,1,1,1]]])"
      ],
      "metadata": {
        "id": "XErcp5HGv3IO"
      },
      "execution_count": 18,
      "outputs": []
    },
    {
      "cell_type": "markdown",
      "source": [
        "Array Attributes"
      ],
      "metadata": {
        "id": "iG2W_cG6ZWCW"
      }
    },
    {
      "cell_type": "code",
      "source": [
        "print(a_mul.shape)"
      ],
      "metadata": {
        "colab": {
          "base_uri": "https://localhost:8080/"
        },
        "id": "BK_DveXdwloa",
        "outputId": "2277557c-0dc1-4a04-a80c-5f82082edb8e"
      },
      "execution_count": 19,
      "outputs": [
        {
          "output_type": "stream",
          "name": "stdout",
          "text": [
            "(2, 3, 4)\n"
          ]
        }
      ]
    },
    {
      "cell_type": "code",
      "source": [
        "print(a_mul.ndim)"
      ],
      "metadata": {
        "colab": {
          "base_uri": "https://localhost:8080/"
        },
        "id": "yJ424llqwuke",
        "outputId": "fd84e129-498a-45b0-d978-5c564eb31820"
      },
      "execution_count": 20,
      "outputs": [
        {
          "output_type": "stream",
          "name": "stdout",
          "text": [
            "3\n"
          ]
        }
      ]
    },
    {
      "cell_type": "code",
      "source": [
        "print(a_mul.size)"
      ],
      "metadata": {
        "colab": {
          "base_uri": "https://localhost:8080/"
        },
        "id": "HBv5aPdpxWiQ",
        "outputId": "e205c754-ee35-4429-9556-f63fbead6d50"
      },
      "execution_count": 21,
      "outputs": [
        {
          "output_type": "stream",
          "name": "stdout",
          "text": [
            "24\n"
          ]
        }
      ]
    },
    {
      "cell_type": "code",
      "source": [
        "print(a_mul.dtype)"
      ],
      "metadata": {
        "id": "AKfnFncfxYtT",
        "outputId": "d9d43abf-1973-4b9c-bf2b-c4d66cb95e7f",
        "colab": {
          "base_uri": "https://localhost:8080/"
        }
      },
      "execution_count": 22,
      "outputs": [
        {
          "output_type": "stream",
          "name": "stdout",
          "text": [
            "int64\n"
          ]
        }
      ]
    },
    {
      "cell_type": "markdown",
      "source": [
        "NumPy Data Types"
      ],
      "metadata": {
        "id": "3SAQF3gmZYYO"
      }
    },
    {
      "cell_type": "code",
      "source": [
        "# this is not possible\n",
        "a = np.array([[1, 2, 3],\n",
        "              [4, \"Hello\", 6],\n",
        "              [7, 8, 9]])\n",
        "print(a.dtype)"
      ],
      "metadata": {
        "colab": {
          "base_uri": "https://localhost:8080/"
        },
        "id": "gBQp5jVSY64s",
        "outputId": "d3c7fcac-7b4c-4a97-f988-7b7e936ea835"
      },
      "execution_count": 23,
      "outputs": [
        {
          "output_type": "stream",
          "name": "stdout",
          "text": [
            "<U21\n"
          ]
        }
      ]
    },
    {
      "cell_type": "code",
      "source": [
        "# this still works\n",
        "print(a[0][0])"
      ],
      "metadata": {
        "colab": {
          "base_uri": "https://localhost:8080/"
        },
        "id": "W4hVyNrEY7Zy",
        "outputId": "18066eed-0524-43f3-e364-2afb8d8311dc"
      },
      "execution_count": 24,
      "outputs": [
        {
          "output_type": "stream",
          "name": "stdout",
          "text": [
            "1\n"
          ]
        }
      ]
    },
    {
      "cell_type": "code",
      "source": [
        "# but the data type changes to a string or <U1 which means that it isn't properly defined\n",
        "print(type(a[0][0]))\n",
        "\n",
        "print(\"\\nor\\n\")\n",
        "\n",
        "print(a[0][0].dtype)\n",
        "# the point is that you can only stores values with the same data type in a numpy array"
      ],
      "metadata": {
        "colab": {
          "base_uri": "https://localhost:8080/"
        },
        "id": "q5G95vVrY7OT",
        "outputId": "f35804a5-e070-4445-a4ac-014229d72b1f"
      },
      "execution_count": 25,
      "outputs": [
        {
          "output_type": "stream",
          "name": "stdout",
          "text": [
            "<class 'numpy.str_'>\n",
            "\n",
            "or\n",
            "\n",
            "<U1\n"
          ]
        }
      ]
    },
    {
      "cell_type": "code",
      "source": [
        "# there is an exception tho\n",
        "# the below code type casts the string number into a float\n",
        "a = np.array([[1, 2, 3],\n",
        "              [4, \"5\", 6],\n",
        "              [7, 8, 9]], dtype=np.float32)\n",
        "print(a.dtype)\n",
        "print(a[0][0].dtype)"
      ],
      "metadata": {
        "colab": {
          "base_uri": "https://localhost:8080/"
        },
        "id": "Zqhu_zK9aoAB",
        "outputId": "79257ed6-481e-4897-9d23-6ac4e2008351"
      },
      "execution_count": 26,
      "outputs": [
        {
          "output_type": "stream",
          "name": "stdout",
          "text": [
            "float32\n",
            "float32\n"
          ]
        }
      ]
    },
    {
      "cell_type": "code",
      "source": [
        "print(a[1][1])"
      ],
      "metadata": {
        "colab": {
          "base_uri": "https://localhost:8080/"
        },
        "id": "0Mne1S10bWTs",
        "outputId": "de05b53a-5fde-49b4-a220-47154ded31bf"
      },
      "execution_count": 27,
      "outputs": [
        {
          "output_type": "stream",
          "name": "stdout",
          "text": [
            "5.0\n"
          ]
        }
      ]
    },
    {
      "cell_type": "code",
      "source": [
        "# whenever you don't have a primitive data type that we can type cast into, everything becomes an object\n",
        "d = {'1': 'A'}\n",
        "\n",
        "a = np.array([[1, 2, 3],\n",
        "              [4, d, 6],\n",
        "              [7, 8, 9]])\n",
        "print(a.dtype)"
      ],
      "metadata": {
        "colab": {
          "base_uri": "https://localhost:8080/"
        },
        "id": "F-B6v3avbbgo",
        "outputId": "7c0d82c1-bda9-4590-b5b3-99df7384e67d"
      },
      "execution_count": 28,
      "outputs": [
        {
          "output_type": "stream",
          "name": "stdout",
          "text": [
            "object\n"
          ]
        }
      ]
    },
    {
      "cell_type": "code",
      "source": [
        "# but since it's an object, whatever you put in it afterwards it will still be an object\n",
        "a = np.array([[1, 2, 3],\n",
        "              [4, d, 6],\n",
        "              [7, 8, \"hello\"]])\n",
        "print(a.dtype)\n",
        "print(type(a[1][1]))\n",
        "print(type(a[1][2]))\n",
        "print(type(a[2][2]))"
      ],
      "metadata": {
        "colab": {
          "base_uri": "https://localhost:8080/"
        },
        "id": "sZMm0NpJcS7F",
        "outputId": "35e086d7-8e70-425d-cfdb-119f0571763e"
      },
      "execution_count": 29,
      "outputs": [
        {
          "output_type": "stream",
          "name": "stdout",
          "text": [
            "object\n",
            "<class 'dict'>\n",
            "<class 'int'>\n",
            "<class 'str'>\n"
          ]
        }
      ]
    },
    {
      "cell_type": "code",
      "source": [
        "# you can also specify the data types for each numpy array to whatever you want it to be\n",
        "\n",
        "a = np.array([[1, 2, 3],\n",
        "              [4, \"5\", 6],\n",
        "              [7, 8, 9]], dtype=\"<U99\")\n",
        "print(a.dtype)\n",
        "# tho when you tryna access the value inside the array, it will become a string\n",
        "print(type(a[0][0]))\n",
        "print(type(a[1][1]))\n",
        "print(type(a[2][2]))"
      ],
      "metadata": {
        "colab": {
          "base_uri": "https://localhost:8080/"
        },
        "id": "dytlFAmxdQ_C",
        "outputId": "bc8a3a42-fde3-4511-bb87-46a7f6c56737"
      },
      "execution_count": 30,
      "outputs": [
        {
          "output_type": "stream",
          "name": "stdout",
          "text": [
            "<U99\n",
            "<class 'numpy.str_'>\n",
            "<class 'numpy.str_'>\n",
            "<class 'numpy.str_'>\n"
          ]
        }
      ]
    },
    {
      "cell_type": "markdown",
      "source": [
        "Filling Arrays"
      ],
      "metadata": {
        "id": "9usxT9i9fys_"
      }
    },
    {
      "cell_type": "code",
      "source": [
        "a = np.full((2, 3, 4), 9)\n",
        "print(a)"
      ],
      "metadata": {
        "colab": {
          "base_uri": "https://localhost:8080/"
        },
        "id": "n9UuYC16jfZ8",
        "outputId": "2152a48f-9a5f-49a2-dcef-299168f6efbf"
      },
      "execution_count": 31,
      "outputs": [
        {
          "output_type": "stream",
          "name": "stdout",
          "text": [
            "[[[9 9 9 9]\n",
            "  [9 9 9 9]\n",
            "  [9 9 9 9]]\n",
            "\n",
            " [[9 9 9 9]\n",
            "  [9 9 9 9]\n",
            "  [9 9 9 9]]]\n"
          ]
        }
      ]
    },
    {
      "cell_type": "code",
      "source": [
        "a = np.zeros((2, 3, 3))\n",
        "print(a)"
      ],
      "metadata": {
        "colab": {
          "base_uri": "https://localhost:8080/"
        },
        "id": "7ENc6fPQj8yO",
        "outputId": "1d2f5485-b1e1-42fa-daac-0d9fa77bc626"
      },
      "execution_count": 32,
      "outputs": [
        {
          "output_type": "stream",
          "name": "stdout",
          "text": [
            "[[[0. 0. 0.]\n",
            "  [0. 0. 0.]\n",
            "  [0. 0. 0.]]\n",
            "\n",
            " [[0. 0. 0.]\n",
            "  [0. 0. 0.]\n",
            "  [0. 0. 0.]]]\n"
          ]
        }
      ]
    },
    {
      "cell_type": "code",
      "source": [
        "a = np.ones((2, 3, 3))\n",
        "print(a)"
      ],
      "metadata": {
        "colab": {
          "base_uri": "https://localhost:8080/"
        },
        "id": "vsG7FjS1kMfg",
        "outputId": "4ae94ffc-bb42-4dc8-d432-9e29e786bffe"
      },
      "execution_count": 33,
      "outputs": [
        {
          "output_type": "stream",
          "name": "stdout",
          "text": [
            "[[[1. 1. 1.]\n",
            "  [1. 1. 1.]\n",
            "  [1. 1. 1.]]\n",
            "\n",
            " [[1. 1. 1.]\n",
            "  [1. 1. 1.]\n",
            "  [1. 1. 1.]]]\n"
          ]
        }
      ]
    },
    {
      "cell_type": "code",
      "source": [
        "# the difference between zeros and empty here is that empty reserves space in the memory\n",
        "a = np.empty((2, 3, 3))\n",
        "print(a)"
      ],
      "metadata": {
        "colab": {
          "base_uri": "https://localhost:8080/"
        },
        "id": "IL7lYRcFkTwC",
        "outputId": "862aab22-10ac-4446-fb17-963d9704d639"
      },
      "execution_count": 34,
      "outputs": [
        {
          "output_type": "stream",
          "name": "stdout",
          "text": [
            "[[[1. 1. 1.]\n",
            "  [1. 1. 1.]\n",
            "  [1. 1. 1.]]\n",
            "\n",
            " [[1. 1. 1.]\n",
            "  [1. 1. 1.]\n",
            "  [1. 1. 1.]]]\n"
          ]
        }
      ]
    },
    {
      "cell_type": "code",
      "source": [
        "# this will generate\n",
        "x_values = np.arange(0, 100, 5)\n",
        "print(x_values)"
      ],
      "metadata": {
        "colab": {
          "base_uri": "https://localhost:8080/"
        },
        "id": "spuWm4zmk5wE",
        "outputId": "5f306425-2fd8-44a4-b6ad-e761f9ed7ac1"
      },
      "execution_count": 35,
      "outputs": [
        {
          "output_type": "stream",
          "name": "stdout",
          "text": [
            "[ 0  5 10 15 20 25 30 35 40 45 50 55 60 65 70 75 80 85 90 95]\n"
          ]
        }
      ]
    },
    {
      "cell_type": "code",
      "source": [
        "# this will generate values that spreads evenly on a given range\n",
        "x_values = np.linspace(0, 100, 5)\n",
        "print(x_values)"
      ],
      "metadata": {
        "colab": {
          "base_uri": "https://localhost:8080/"
        },
        "id": "bplDbwvKmFrn",
        "outputId": "7f418cef-a48e-4d02-e11c-9786d643262e"
      },
      "execution_count": 36,
      "outputs": [
        {
          "output_type": "stream",
          "name": "stdout",
          "text": [
            "[  0.  25.  50.  75. 100.]\n"
          ]
        }
      ]
    },
    {
      "cell_type": "markdown",
      "source": [
        "# NaN and Inf\n",
        "---\n",
        "Null and Infinite number"
      ],
      "metadata": {
        "id": "qwkh0FmnqFXe"
      }
    },
    {
      "cell_type": "code",
      "source": [
        "print(np.nan)"
      ],
      "metadata": {
        "colab": {
          "base_uri": "https://localhost:8080/"
        },
        "id": "4Haxo1-uqHrU",
        "outputId": "805a6ef7-b2cf-4184-857e-aeedc76cc2fa"
      },
      "execution_count": 37,
      "outputs": [
        {
          "output_type": "stream",
          "name": "stdout",
          "text": [
            "nan\n"
          ]
        }
      ]
    },
    {
      "cell_type": "code",
      "source": [
        "print(np.inf)"
      ],
      "metadata": {
        "colab": {
          "base_uri": "https://localhost:8080/"
        },
        "id": "WxGaFKhDmX5k",
        "outputId": "3a717ea2-27ba-4302-86ff-963a11edef65"
      },
      "execution_count": 38,
      "outputs": [
        {
          "output_type": "stream",
          "name": "stdout",
          "text": [
            "inf\n"
          ]
        }
      ]
    },
    {
      "cell_type": "code",
      "source": [
        "print(np.isnan(np.nan))\n",
        "print(np.isinf(np.inf))"
      ],
      "metadata": {
        "colab": {
          "base_uri": "https://localhost:8080/"
        },
        "id": "_-NMOUNmqaYZ",
        "outputId": "0d8338f2-3b08-4c9a-fa1c-0cae406bb72b"
      },
      "execution_count": 39,
      "outputs": [
        {
          "output_type": "stream",
          "name": "stdout",
          "text": [
            "True\n",
            "True\n"
          ]
        }
      ]
    },
    {
      "cell_type": "code",
      "source": [
        "print(np.isnan(np.sqrt(-1)))"
      ],
      "metadata": {
        "colab": {
          "base_uri": "https://localhost:8080/"
        },
        "id": "ePdlPQJ-qlEU",
        "outputId": "b0fd06e2-bdf5-4053-8135-db08d0265663"
      },
      "execution_count": 40,
      "outputs": [
        {
          "output_type": "stream",
          "name": "stdout",
          "text": [
            "True\n"
          ]
        },
        {
          "output_type": "stream",
          "name": "stderr",
          "text": [
            "<ipython-input-40-ea7a60a0f3dd>:1: RuntimeWarning: invalid value encountered in sqrt\n",
            "  print(np.isnan(np.sqrt(-1)))\n"
          ]
        }
      ]
    },
    {
      "cell_type": "code",
      "source": [
        "print(np.isinf(np.array([10])/0))"
      ],
      "metadata": {
        "colab": {
          "base_uri": "https://localhost:8080/"
        },
        "id": "EWXVwjS7rHQT",
        "outputId": "c90acb53-92f5-4d8c-a4ec-81e8b882479d"
      },
      "execution_count": 41,
      "outputs": [
        {
          "output_type": "stream",
          "name": "stdout",
          "text": [
            "[ True]\n"
          ]
        },
        {
          "output_type": "stream",
          "name": "stderr",
          "text": [
            "<ipython-input-41-cfd748efb07b>:1: RuntimeWarning: divide by zero encountered in divide\n",
            "  print(np.isinf(np.array([10])/0))\n"
          ]
        }
      ]
    },
    {
      "cell_type": "code",
      "source": [
        "print(np.sqrt(-1))"
      ],
      "metadata": {
        "colab": {
          "base_uri": "https://localhost:8080/"
        },
        "id": "lKkhZsGbrRjD",
        "outputId": "b5afd303-9e79-4d67-8bd1-acb64466372a"
      },
      "execution_count": 42,
      "outputs": [
        {
          "output_type": "stream",
          "name": "stdout",
          "text": [
            "nan\n"
          ]
        },
        {
          "output_type": "stream",
          "name": "stderr",
          "text": [
            "<ipython-input-42-41a4088c2eb8>:1: RuntimeWarning: invalid value encountered in sqrt\n",
            "  print(np.sqrt(-1))\n"
          ]
        }
      ]
    },
    {
      "cell_type": "code",
      "source": [
        "print(np.array([10])/0)"
      ],
      "metadata": {
        "colab": {
          "base_uri": "https://localhost:8080/"
        },
        "id": "JBGJTwgJrVsz",
        "outputId": "e7921987-5e02-457f-c40c-ec7463b09ef2"
      },
      "execution_count": 43,
      "outputs": [
        {
          "output_type": "stream",
          "name": "stdout",
          "text": [
            "[inf]\n"
          ]
        },
        {
          "output_type": "stream",
          "name": "stderr",
          "text": [
            "<ipython-input-43-d8f00b03af36>:1: RuntimeWarning: divide by zero encountered in divide\n",
            "  print(np.array([10])/0)\n"
          ]
        }
      ]
    },
    {
      "cell_type": "markdown",
      "source": [
        "# Mathematical Operations"
      ],
      "metadata": {
        "id": "w-dJ9Nv6rgUw"
      }
    },
    {
      "cell_type": "code",
      "source": [
        "l1 = [ x for x in range(0, 7)]\n",
        "l2 = [ x for x in range(7, 14)]\n",
        "\n",
        "a1 = np.array(l1)\n",
        "a2 = np.array(l2)\n",
        "\n",
        "print(l1)\n",
        "print(l2)\n",
        "print(a1)\n",
        "print(a2)"
      ],
      "metadata": {
        "colab": {
          "base_uri": "https://localhost:8080/"
        },
        "id": "TtOedw8HrjL6",
        "outputId": "4d276405-72b3-4d5c-89f6-acda53146069"
      },
      "execution_count": 44,
      "outputs": [
        {
          "output_type": "stream",
          "name": "stdout",
          "text": [
            "[0, 1, 2, 3, 4, 5, 6]\n",
            "[7, 8, 9, 10, 11, 12, 13]\n",
            "[0 1 2 3 4 5 6]\n",
            "[ 7  8  9 10 11 12 13]\n"
          ]
        }
      ]
    },
    {
      "cell_type": "code",
      "source": [
        "print(l1 * 5)"
      ],
      "metadata": {
        "colab": {
          "base_uri": "https://localhost:8080/"
        },
        "id": "3AYFXW0Tu3I1",
        "outputId": "8272fc32-da99-46e6-aa7b-5e3e656dbd74"
      },
      "execution_count": 45,
      "outputs": [
        {
          "output_type": "stream",
          "name": "stdout",
          "text": [
            "[0, 1, 2, 3, 4, 5, 6, 0, 1, 2, 3, 4, 5, 6, 0, 1, 2, 3, 4, 5, 6, 0, 1, 2, 3, 4, 5, 6, 0, 1, 2, 3, 4, 5, 6]\n"
          ]
        }
      ]
    },
    {
      "cell_type": "code",
      "source": [
        "print(a1 * 5)"
      ],
      "metadata": {
        "colab": {
          "base_uri": "https://localhost:8080/"
        },
        "id": "6hv2iRfrtIFW",
        "outputId": "544c2916-708a-4a25-fbcf-548602a8c783"
      },
      "execution_count": 46,
      "outputs": [
        {
          "output_type": "stream",
          "name": "stdout",
          "text": [
            "[ 0  5 10 15 20 25 30]\n"
          ]
        }
      ]
    },
    {
      "cell_type": "code",
      "source": [
        "# you can't add python list with a constant\n",
        "try:\n",
        "  print(l1 + 5)\n",
        "except Exception as e:\n",
        "  print(e)"
      ],
      "metadata": {
        "colab": {
          "base_uri": "https://localhost:8080/"
        },
        "id": "wcB-a11qt2Yd",
        "outputId": "887c7bc1-350e-475c-fe61-82c4ef12772a"
      },
      "execution_count": 47,
      "outputs": [
        {
          "output_type": "stream",
          "name": "stdout",
          "text": [
            "can only concatenate list (not \"int\") to list\n"
          ]
        }
      ]
    },
    {
      "cell_type": "code",
      "source": [
        "print(l1 + l2)"
      ],
      "metadata": {
        "colab": {
          "base_uri": "https://localhost:8080/"
        },
        "id": "eTydJdGWuG8g",
        "outputId": "64b9113d-ffae-4e3b-def6-ac76490b8950"
      },
      "execution_count": 48,
      "outputs": [
        {
          "output_type": "stream",
          "name": "stdout",
          "text": [
            "[0, 1, 2, 3, 4, 5, 6, 7, 8, 9, 10, 11, 12, 13]\n"
          ]
        }
      ]
    },
    {
      "cell_type": "code",
      "source": [
        "print(a1 + 5)"
      ],
      "metadata": {
        "colab": {
          "base_uri": "https://localhost:8080/"
        },
        "id": "jfZKUsDovc5M",
        "outputId": "2a0b0cb3-3e1f-4e9e-bfdd-5a62e26ad98a"
      },
      "execution_count": 49,
      "outputs": [
        {
          "output_type": "stream",
          "name": "stdout",
          "text": [
            "[ 5  6  7  8  9 10 11]\n"
          ]
        }
      ]
    },
    {
      "cell_type": "code",
      "source": [
        "print(a2 + 5)"
      ],
      "metadata": {
        "colab": {
          "base_uri": "https://localhost:8080/"
        },
        "id": "fIbE7mhcvgRT",
        "outputId": "145cc757-8a55-4e32-9e60-00804be7c383"
      },
      "execution_count": 50,
      "outputs": [
        {
          "output_type": "stream",
          "name": "stdout",
          "text": [
            "[12 13 14 15 16 17 18]\n"
          ]
        }
      ]
    },
    {
      "cell_type": "code",
      "source": [
        "print(a1 + a2)"
      ],
      "metadata": {
        "colab": {
          "base_uri": "https://localhost:8080/"
        },
        "id": "40R7mU_CvmQK",
        "outputId": "844fb977-e375-4dba-f8b1-2cad2d0c37e5"
      },
      "execution_count": 51,
      "outputs": [
        {
          "output_type": "stream",
          "name": "stdout",
          "text": [
            "[ 7  9 11 13 15 17 19]\n"
          ]
        }
      ]
    },
    {
      "cell_type": "code",
      "source": [
        "print(a1 / a2)"
      ],
      "metadata": {
        "colab": {
          "base_uri": "https://localhost:8080/"
        },
        "id": "dnyYDyENvtgA",
        "outputId": "e557665e-312e-46ad-eb49-f3f757ef7e67"
      },
      "execution_count": 52,
      "outputs": [
        {
          "output_type": "stream",
          "name": "stdout",
          "text": [
            "[0.         0.125      0.22222222 0.3        0.36363636 0.41666667\n",
            " 0.46153846]\n"
          ]
        }
      ]
    },
    {
      "cell_type": "code",
      "source": [
        "print(a1 / 0)"
      ],
      "metadata": {
        "colab": {
          "base_uri": "https://localhost:8080/"
        },
        "id": "3CQ3-DI7wqMF",
        "outputId": "f5e06ee3-c2fa-4e1f-aece-894f175bc0a5"
      },
      "execution_count": 53,
      "outputs": [
        {
          "output_type": "stream",
          "name": "stdout",
          "text": [
            "[nan inf inf inf inf inf inf]\n"
          ]
        },
        {
          "output_type": "stream",
          "name": "stderr",
          "text": [
            "<ipython-input-53-d054f63e1930>:1: RuntimeWarning: divide by zero encountered in divide\n",
            "  print(a1 / 0)\n",
            "<ipython-input-53-d054f63e1930>:1: RuntimeWarning: invalid value encountered in divide\n",
            "  print(a1 / 0)\n"
          ]
        }
      ]
    },
    {
      "cell_type": "code",
      "source": [
        "try:\n",
        "  print(l1 - 1)\n",
        "except Exception as e:\n",
        "  print(e)"
      ],
      "metadata": {
        "colab": {
          "base_uri": "https://localhost:8080/"
        },
        "id": "PmIj_f70w-fb",
        "outputId": "d1735f3b-5200-4ed2-8fa1-2c83911feb06"
      },
      "execution_count": 54,
      "outputs": [
        {
          "output_type": "stream",
          "name": "stdout",
          "text": [
            "unsupported operand type(s) for -: 'list' and 'int'\n"
          ]
        }
      ]
    },
    {
      "cell_type": "code",
      "source": [
        "try:\n",
        "  print(l2 - l1)\n",
        "except Exception as e:\n",
        "  print(e)"
      ],
      "metadata": {
        "colab": {
          "base_uri": "https://localhost:8080/"
        },
        "id": "4bMnjBl6xcr8",
        "outputId": "29d781db-30c4-48c7-adde-c75de3dade0a"
      },
      "execution_count": 55,
      "outputs": [
        {
          "output_type": "stream",
          "name": "stdout",
          "text": [
            "unsupported operand type(s) for -: 'list' and 'list'\n"
          ]
        }
      ]
    },
    {
      "cell_type": "code",
      "source": [
        "print(a1 - a2)"
      ],
      "metadata": {
        "colab": {
          "base_uri": "https://localhost:8080/"
        },
        "id": "uCKsShzMx22s",
        "outputId": "59112821-8a03-4313-9bef-7f748d00587e"
      },
      "execution_count": 56,
      "outputs": [
        {
          "output_type": "stream",
          "name": "stdout",
          "text": [
            "[-7 -7 -7 -7 -7 -7 -7]\n"
          ]
        }
      ]
    },
    {
      "cell_type": "code",
      "source": [
        "a1 = np.array([1,2,3])\n",
        "a2 = np.array([[1], [2]])"
      ],
      "metadata": {
        "id": "D1E4mcwdyL5N"
      },
      "execution_count": 57,
      "outputs": []
    },
    {
      "cell_type": "code",
      "source": [
        "print(a1 + a2)"
      ],
      "metadata": {
        "colab": {
          "base_uri": "https://localhost:8080/"
        },
        "id": "vycFwwiHzesm",
        "outputId": "13b74630-923f-4e98-ef8e-d0de3ffb065f"
      },
      "execution_count": 58,
      "outputs": [
        {
          "output_type": "stream",
          "name": "stdout",
          "text": [
            "[[2 3 4]\n",
            " [3 4 5]]\n"
          ]
        }
      ]
    },
    {
      "cell_type": "code",
      "source": [
        "a1.shape"
      ],
      "metadata": {
        "colab": {
          "base_uri": "https://localhost:8080/"
        },
        "id": "nJ-N-CzNzonD",
        "outputId": "2566d173-9592-4f4f-fa51-6e7dbb69e219"
      },
      "execution_count": 59,
      "outputs": [
        {
          "output_type": "execute_result",
          "data": {
            "text/plain": [
              "(3,)"
            ]
          },
          "metadata": {},
          "execution_count": 59
        }
      ]
    },
    {
      "cell_type": "code",
      "source": [
        "a2.shape"
      ],
      "metadata": {
        "colab": {
          "base_uri": "https://localhost:8080/"
        },
        "id": "x4lcrO5P0OJu",
        "outputId": "f06a8851-dcd9-4730-f76c-c51190546a37"
      },
      "execution_count": 60,
      "outputs": [
        {
          "output_type": "execute_result",
          "data": {
            "text/plain": [
              "(2, 1)"
            ]
          },
          "metadata": {},
          "execution_count": 60
        }
      ]
    },
    {
      "cell_type": "code",
      "source": [
        "a3 = np.array([[[1,2,3],[1,2,3],[1,2,3]], [[1,2,3],[1,2,3], [1,2,3]], [[1,2,3], [1,2,3], [1,2,3]]])\n",
        "a3.shape"
      ],
      "metadata": {
        "colab": {
          "base_uri": "https://localhost:8080/"
        },
        "id": "5ATtQYYG0cM6",
        "outputId": "1b71fc75-1544-4717-91ac-584902e5315f"
      },
      "execution_count": 61,
      "outputs": [
        {
          "output_type": "execute_result",
          "data": {
            "text/plain": [
              "(3, 3, 3)"
            ]
          },
          "metadata": {},
          "execution_count": 61
        }
      ]
    },
    {
      "cell_type": "code",
      "source": [
        "np.sqrt(4)"
      ],
      "metadata": {
        "colab": {
          "base_uri": "https://localhost:8080/"
        },
        "id": "oA1fB8io09Ju",
        "outputId": "70e5371b-65e9-4d45-893f-4eaa55ee6fa9"
      },
      "execution_count": 62,
      "outputs": [
        {
          "output_type": "execute_result",
          "data": {
            "text/plain": [
              "2.0"
            ]
          },
          "metadata": {},
          "execution_count": 62
        }
      ]
    },
    {
      "cell_type": "code",
      "source": [
        "a = np.array([[2**x for x in range(1, 6)],[3**x for x in range(1, 6)]])\n",
        "print(a)"
      ],
      "metadata": {
        "colab": {
          "base_uri": "https://localhost:8080/"
        },
        "id": "sT3Kh0u11Y65",
        "outputId": "027f177a-ef12-4e62-cabe-51576d7a8fbf"
      },
      "execution_count": 63,
      "outputs": [
        {
          "output_type": "stream",
          "name": "stdout",
          "text": [
            "[[  2   4   8  16  32]\n",
            " [  3   9  27  81 243]]\n"
          ]
        }
      ]
    },
    {
      "cell_type": "code",
      "source": [
        "print(np.sin(a))"
      ],
      "metadata": {
        "colab": {
          "base_uri": "https://localhost:8080/"
        },
        "id": "-QDQh0CY2EhD",
        "outputId": "a4d54cd3-abbc-4fb1-8e16-4d7e2480964f"
      },
      "execution_count": 64,
      "outputs": [
        {
          "output_type": "stream",
          "name": "stdout",
          "text": [
            "[[ 0.90929743 -0.7568025   0.98935825 -0.28790332  0.55142668]\n",
            " [ 0.14112001  0.41211849  0.95637593 -0.62988799 -0.89000935]]\n"
          ]
        }
      ]
    },
    {
      "cell_type": "code",
      "source": [
        "print(np.cos(a))"
      ],
      "metadata": {
        "colab": {
          "base_uri": "https://localhost:8080/"
        },
        "id": "7vAS_40t2J7_",
        "outputId": "469e1073-6f9b-4cb5-c460-cba3e7fad1c7"
      },
      "execution_count": 65,
      "outputs": [
        {
          "output_type": "stream",
          "name": "stdout",
          "text": [
            "[[-0.41614684 -0.65364362 -0.14550003 -0.95765948  0.83422336]\n",
            " [-0.9899925  -0.91113026 -0.29213881  0.77668598 -0.45594228]]\n"
          ]
        }
      ]
    },
    {
      "cell_type": "code",
      "source": [
        "print(np.tan(a))"
      ],
      "metadata": {
        "colab": {
          "base_uri": "https://localhost:8080/"
        },
        "id": "wBtlH5U02MFw",
        "outputId": "f182f37a-2f22-4ec8-d496-e5f0bac23728"
      },
      "execution_count": 66,
      "outputs": [
        {
          "output_type": "stream",
          "name": "stdout",
          "text": [
            "[[-2.18503986  1.15782128 -6.79971146  0.30063224  0.66100604]\n",
            " [-0.14254654 -0.45231566 -3.2737038  -0.81099442  1.95202199]]\n"
          ]
        }
      ]
    },
    {
      "cell_type": "code",
      "source": [
        "print(np.arcsin(a))"
      ],
      "metadata": {
        "colab": {
          "base_uri": "https://localhost:8080/"
        },
        "id": "VxFDTwZE2VlG",
        "outputId": "59a417af-2189-4d51-ad63-bfc6c1176269"
      },
      "execution_count": 67,
      "outputs": [
        {
          "output_type": "stream",
          "name": "stdout",
          "text": [
            "[[nan nan nan nan nan]\n",
            " [nan nan nan nan nan]]\n"
          ]
        },
        {
          "output_type": "stream",
          "name": "stderr",
          "text": [
            "<ipython-input-67-e160afb20a74>:1: RuntimeWarning: invalid value encountered in arcsin\n",
            "  print(np.arcsin(a))\n"
          ]
        }
      ]
    },
    {
      "cell_type": "code",
      "source": [
        "print(np.arccos(a))"
      ],
      "metadata": {
        "colab": {
          "base_uri": "https://localhost:8080/"
        },
        "id": "Go19QR7n2a1_",
        "outputId": "73e099c9-56ce-4d21-eeed-b727a16b82d4"
      },
      "execution_count": 68,
      "outputs": [
        {
          "output_type": "stream",
          "name": "stdout",
          "text": [
            "[[nan nan nan nan nan]\n",
            " [nan nan nan nan nan]]\n"
          ]
        },
        {
          "output_type": "stream",
          "name": "stderr",
          "text": [
            "<ipython-input-68-cabd94871aca>:1: RuntimeWarning: invalid value encountered in arccos\n",
            "  print(np.arccos(a))\n"
          ]
        }
      ]
    },
    {
      "cell_type": "code",
      "source": [
        "print(np.arctan(a))"
      ],
      "metadata": {
        "colab": {
          "base_uri": "https://localhost:8080/"
        },
        "id": "H4RNJ9Ce2dxx",
        "outputId": "7e8810f9-5069-46a2-96f1-4ce351d81882"
      },
      "execution_count": 69,
      "outputs": [
        {
          "output_type": "stream",
          "name": "stdout",
          "text": [
            "[[1.10714872 1.32581766 1.44644133 1.50837752 1.53955649]\n",
            " [1.24904577 1.46013911 1.53377621 1.55845127 1.56668112]]\n"
          ]
        }
      ]
    },
    {
      "cell_type": "code",
      "source": [
        "print(np.exp(a))"
      ],
      "metadata": {
        "colab": {
          "base_uri": "https://localhost:8080/"
        },
        "id": "_QAvB3mZ2OXB",
        "outputId": "a16be099-c673-4df4-9df4-e1348eaeadde"
      },
      "execution_count": 70,
      "outputs": [
        {
          "output_type": "stream",
          "name": "stdout",
          "text": [
            "[[7.38905610e+000 5.45981500e+001 2.98095799e+003 8.88611052e+006\n",
            "  7.89629602e+013]\n",
            " [2.00855369e+001 8.10308393e+003 5.32048241e+011 1.50609731e+035\n",
            "  3.41632440e+105]]\n"
          ]
        }
      ]
    },
    {
      "cell_type": "code",
      "source": [
        "print(np.log(a))"
      ],
      "metadata": {
        "colab": {
          "base_uri": "https://localhost:8080/"
        },
        "id": "35zVoj-X2jSC",
        "outputId": "1941646e-f388-4755-cd05-25210e1e5468"
      },
      "execution_count": 71,
      "outputs": [
        {
          "output_type": "stream",
          "name": "stdout",
          "text": [
            "[[0.69314718 1.38629436 2.07944154 2.77258872 3.4657359 ]\n",
            " [1.09861229 2.19722458 3.29583687 4.39444915 5.49306144]]\n"
          ]
        }
      ]
    },
    {
      "cell_type": "code",
      "source": [
        "print(np.log2(a))"
      ],
      "metadata": {
        "colab": {
          "base_uri": "https://localhost:8080/"
        },
        "id": "NBH7TAj22nD6",
        "outputId": "24908ca0-56a7-46ef-b8f3-25ce28f2e0b4"
      },
      "execution_count": 72,
      "outputs": [
        {
          "output_type": "stream",
          "name": "stdout",
          "text": [
            "[[1.        2.        3.        4.        5.       ]\n",
            " [1.5849625 3.169925  4.7548875 6.33985   7.9248125]]\n"
          ]
        }
      ]
    },
    {
      "cell_type": "code",
      "source": [
        "print(np.log10(a))"
      ],
      "metadata": {
        "colab": {
          "base_uri": "https://localhost:8080/"
        },
        "id": "SwpwG7eX2rr2",
        "outputId": "2484f096-ea9a-4d44-e49b-d3ea3b89bb79"
      },
      "execution_count": 73,
      "outputs": [
        {
          "output_type": "stream",
          "name": "stdout",
          "text": [
            "[[0.30103    0.60205999 0.90308999 1.20411998 1.50514998]\n",
            " [0.47712125 0.95424251 1.43136376 1.90848502 2.38560627]]\n"
          ]
        }
      ]
    },
    {
      "cell_type": "markdown",
      "source": [
        "# Array Methods\n",
        "---\n",
        "reshape"
      ],
      "metadata": {
        "id": "-LLY2Y8Z3SWK"
      }
    },
    {
      "cell_type": "code",
      "source": [
        "a = np.array([1, 2, 3, 4, 5, 6, 7, 8, 9, 10])\n",
        "\n",
        "print(np.append(a, [11, 12, 13]))"
      ],
      "metadata": {
        "colab": {
          "base_uri": "https://localhost:8080/"
        },
        "id": "zvx_V7Dv3Ukb",
        "outputId": "517e4424-b335-4e0a-a072-e3d0908fe611"
      },
      "execution_count": 74,
      "outputs": [
        {
          "output_type": "stream",
          "name": "stdout",
          "text": [
            "[ 1  2  3  4  5  6  7  8  9 10 11 12 13]\n"
          ]
        }
      ]
    },
    {
      "cell_type": "code",
      "source": [
        "print(np.insert(a, 3, [11, 12, 13]))"
      ],
      "metadata": {
        "colab": {
          "base_uri": "https://localhost:8080/"
        },
        "id": "Tmmq52Ic3536",
        "outputId": "2885f32b-2a51-4402-fabb-ad6fbc264ffc"
      },
      "execution_count": 75,
      "outputs": [
        {
          "output_type": "stream",
          "name": "stdout",
          "text": [
            "[ 1  2  3 11 12 13  4  5  6  7  8  9 10]\n"
          ]
        }
      ]
    },
    {
      "cell_type": "code",
      "source": [
        "np.delete(a, 1)"
      ],
      "metadata": {
        "colab": {
          "base_uri": "https://localhost:8080/"
        },
        "id": "91IHXf0i4VHd",
        "outputId": "74d74bcb-8884-4ab4-ef76-4669256cd5fc"
      },
      "execution_count": 76,
      "outputs": [
        {
          "output_type": "execute_result",
          "data": {
            "text/plain": [
              "array([ 1,  3,  4,  5,  6,  7,  8,  9, 10])"
            ]
          },
          "metadata": {},
          "execution_count": 76
        }
      ]
    },
    {
      "cell_type": "code",
      "source": [
        "a = np.array([[1,2,3],[4,5,6],[7,8,9]])\n",
        "print(np.delete(a, 1, 0))\n",
        "# 0  at the end represents a row\n",
        "# 1 at the end represents a column"
      ],
      "metadata": {
        "colab": {
          "base_uri": "https://localhost:8080/"
        },
        "id": "iPHhtUCx4o9G",
        "outputId": "a6788a26-d293-4048-9838-a5ad1e3aee72"
      },
      "execution_count": 77,
      "outputs": [
        {
          "output_type": "stream",
          "name": "stdout",
          "text": [
            "[[1 2 3]\n",
            " [7 8 9]]\n"
          ]
        }
      ]
    },
    {
      "cell_type": "markdown",
      "source": [
        "# Structuring Methods"
      ],
      "metadata": {
        "id": "n5d_1QTT0Cgw"
      }
    },
    {
      "cell_type": "code",
      "source": [
        "a = np.array([[1,2,3,4,5],\n",
        "             [6,7,8,9,10],\n",
        "             [11,12,13,14,15],\n",
        "             [16,17,18,19,20]])"
      ],
      "metadata": {
        "id": "nB8M2Ici6EbT"
      },
      "execution_count": 78,
      "outputs": []
    },
    {
      "cell_type": "code",
      "source": [
        "print(a.shape)\n",
        "print(a.reshape((5,4)))"
      ],
      "metadata": {
        "colab": {
          "base_uri": "https://localhost:8080/"
        },
        "id": "ZM41Zejb56w-",
        "outputId": "e62ea5a2-da04-43f4-a828-be574a2a96fe"
      },
      "execution_count": 79,
      "outputs": [
        {
          "output_type": "stream",
          "name": "stdout",
          "text": [
            "(4, 5)\n",
            "[[ 1  2  3  4]\n",
            " [ 5  6  7  8]\n",
            " [ 9 10 11 12]\n",
            " [13 14 15 16]\n",
            " [17 18 19 20]]\n"
          ]
        }
      ]
    },
    {
      "cell_type": "code",
      "source": [
        "print(a.reshape(20,))"
      ],
      "metadata": {
        "colab": {
          "base_uri": "https://localhost:8080/"
        },
        "id": "_AGHDeES64Tk",
        "outputId": "19592060-1f32-4faf-aef8-2d012139c77e"
      },
      "execution_count": 80,
      "outputs": [
        {
          "output_type": "stream",
          "name": "stdout",
          "text": [
            "[ 1  2  3  4  5  6  7  8  9 10 11 12 13 14 15 16 17 18 19 20]\n"
          ]
        }
      ]
    },
    {
      "cell_type": "code",
      "source": [
        "print(a.reshape(2, 10))"
      ],
      "metadata": {
        "colab": {
          "base_uri": "https://localhost:8080/"
        },
        "id": "Ocy1QOjW69qo",
        "outputId": "f7385590-58ca-42a8-d6c3-4742cc4e0da7"
      },
      "execution_count": 81,
      "outputs": [
        {
          "output_type": "stream",
          "name": "stdout",
          "text": [
            "[[ 1  2  3  4  5  6  7  8  9 10]\n",
            " [11 12 13 14 15 16 17 18 19 20]]\n"
          ]
        }
      ]
    },
    {
      "cell_type": "code",
      "source": [
        "print(a.reshape(2,2,5))"
      ],
      "metadata": {
        "colab": {
          "base_uri": "https://localhost:8080/"
        },
        "id": "0Xe26_DT7JN-",
        "outputId": "f84a7657-f66e-4199-95ce-2ce991fe976e"
      },
      "execution_count": 82,
      "outputs": [
        {
          "output_type": "stream",
          "name": "stdout",
          "text": [
            "[[[ 1  2  3  4  5]\n",
            "  [ 6  7  8  9 10]]\n",
            "\n",
            " [[11 12 13 14 15]\n",
            "  [16 17 18 19 20]]]\n"
          ]
        }
      ]
    },
    {
      "cell_type": "code",
      "source": [
        "print(a.reshape(2,5,2))"
      ],
      "metadata": {
        "colab": {
          "base_uri": "https://localhost:8080/"
        },
        "id": "bn683Ahw7SqW",
        "outputId": "d4d8697f-50da-4133-e00f-ccf1c18709b0"
      },
      "execution_count": 83,
      "outputs": [
        {
          "output_type": "stream",
          "name": "stdout",
          "text": [
            "[[[ 1  2]\n",
            "  [ 3  4]\n",
            "  [ 5  6]\n",
            "  [ 7  8]\n",
            "  [ 9 10]]\n",
            "\n",
            " [[11 12]\n",
            "  [13 14]\n",
            "  [15 16]\n",
            "  [17 18]\n",
            "  [19 20]]]\n"
          ]
        }
      ]
    },
    {
      "cell_type": "code",
      "source": [
        "print(a.reshape(20, 1))"
      ],
      "metadata": {
        "colab": {
          "base_uri": "https://localhost:8080/"
        },
        "id": "BBqknydr7ZeN",
        "outputId": "b7c1366c-f5d2-46f2-a837-30e0a2fefe66"
      },
      "execution_count": 84,
      "outputs": [
        {
          "output_type": "stream",
          "name": "stdout",
          "text": [
            "[[ 1]\n",
            " [ 2]\n",
            " [ 3]\n",
            " [ 4]\n",
            " [ 5]\n",
            " [ 6]\n",
            " [ 7]\n",
            " [ 8]\n",
            " [ 9]\n",
            " [10]\n",
            " [11]\n",
            " [12]\n",
            " [13]\n",
            " [14]\n",
            " [15]\n",
            " [16]\n",
            " [17]\n",
            " [18]\n",
            " [19]\n",
            " [20]]\n"
          ]
        }
      ]
    },
    {
      "cell_type": "code",
      "source": [
        "print(a.reshape(5, 2, 2))"
      ],
      "metadata": {
        "colab": {
          "base_uri": "https://localhost:8080/"
        },
        "id": "0VMhHX2D7mox",
        "outputId": "9d579d4b-26d5-4f35-c1bd-f79c357fc3e5"
      },
      "execution_count": 85,
      "outputs": [
        {
          "output_type": "stream",
          "name": "stdout",
          "text": [
            "[[[ 1  2]\n",
            "  [ 3  4]]\n",
            "\n",
            " [[ 5  6]\n",
            "  [ 7  8]]\n",
            "\n",
            " [[ 9 10]\n",
            "  [11 12]]\n",
            "\n",
            " [[13 14]\n",
            "  [15 16]]\n",
            "\n",
            " [[17 18]\n",
            "  [19 20]]]\n"
          ]
        }
      ]
    },
    {
      "cell_type": "code",
      "source": [
        "print(a.reshape(10,2))"
      ],
      "metadata": {
        "colab": {
          "base_uri": "https://localhost:8080/"
        },
        "id": "F3hCQWZS1HUe",
        "outputId": "7ce0e8c9-6a25-48bc-a7a4-9b1f14d372ca"
      },
      "execution_count": 86,
      "outputs": [
        {
          "output_type": "stream",
          "name": "stdout",
          "text": [
            "[[ 1  2]\n",
            " [ 3  4]\n",
            " [ 5  6]\n",
            " [ 7  8]\n",
            " [ 9 10]\n",
            " [11 12]\n",
            " [13 14]\n",
            " [15 16]\n",
            " [17 18]\n",
            " [19 20]]\n"
          ]
        }
      ]
    },
    {
      "cell_type": "markdown",
      "source": [
        "# resize"
      ],
      "metadata": {
        "id": "tglqF4--0pvi"
      }
    },
    {
      "cell_type": "code",
      "source": [
        "# while reshape doesn't immediately or directly change the array\n",
        "# resize does\n",
        "a.resize(10, 2)\n",
        "print(a)"
      ],
      "metadata": {
        "colab": {
          "base_uri": "https://localhost:8080/"
        },
        "id": "XmfpL77Jz8PW",
        "outputId": "9562d96c-d8c5-4c89-d834-b81b3e040435"
      },
      "execution_count": 87,
      "outputs": [
        {
          "output_type": "stream",
          "name": "stdout",
          "text": [
            "[[ 1  2]\n",
            " [ 3  4]\n",
            " [ 5  6]\n",
            " [ 7  8]\n",
            " [ 9 10]\n",
            " [11 12]\n",
            " [13 14]\n",
            " [15 16]\n",
            " [17 18]\n",
            " [19 20]]\n"
          ]
        }
      ]
    },
    {
      "cell_type": "code",
      "source": [
        "a.resize(5, 4)\n",
        "print(a)"
      ],
      "metadata": {
        "colab": {
          "base_uri": "https://localhost:8080/"
        },
        "id": "saWJ7WQd3VZ0",
        "outputId": "f5bba13f-00f1-4646-f6cb-dce12b45612e"
      },
      "execution_count": 88,
      "outputs": [
        {
          "output_type": "stream",
          "name": "stdout",
          "text": [
            "[[ 1  2  3  4]\n",
            " [ 5  6  7  8]\n",
            " [ 9 10 11 12]\n",
            " [13 14 15 16]\n",
            " [17 18 19 20]]\n"
          ]
        }
      ]
    },
    {
      "cell_type": "markdown",
      "source": [
        "# flatten & ravel"
      ],
      "metadata": {
        "id": "24_6sl3C1dzw"
      }
    },
    {
      "cell_type": "code",
      "source": [
        "# this function transform any dimensional array into one dimensional array\n",
        "print(a.flatten())"
      ],
      "metadata": {
        "colab": {
          "base_uri": "https://localhost:8080/"
        },
        "id": "xWS7Unb51brQ",
        "outputId": "23649607-c933-4a05-ca45-d4baf6443ee7"
      },
      "execution_count": 89,
      "outputs": [
        {
          "output_type": "stream",
          "name": "stdout",
          "text": [
            "[ 1  2  3  4  5  6  7  8  9 10 11 12 13 14 15 16 17 18 19 20]\n"
          ]
        }
      ]
    },
    {
      "cell_type": "code",
      "source": [
        "# this does the same but it only shows the one dimensional array version of the array\n",
        "# while flatten returns the copy of the array in one dimensional format\n",
        "print(a.ravel())"
      ],
      "metadata": {
        "colab": {
          "base_uri": "https://localhost:8080/"
        },
        "id": "9JrGg9dT1g05",
        "outputId": "9ba50bb9-9d17-46fe-db03-6e48fe019211"
      },
      "execution_count": 90,
      "outputs": [
        {
          "output_type": "stream",
          "name": "stdout",
          "text": [
            "[ 1  2  3  4  5  6  7  8  9 10 11 12 13 14 15 16 17 18 19 20]\n"
          ]
        }
      ]
    },
    {
      "cell_type": "code",
      "source": [
        "var1 = a.flatten()\n",
        "var1[2] = 100\n",
        "print(var1)"
      ],
      "metadata": {
        "colab": {
          "base_uri": "https://localhost:8080/"
        },
        "id": "CexmuZfd2DbY",
        "outputId": "1909fc64-1695-409c-a943-771abd9146d0"
      },
      "execution_count": 91,
      "outputs": [
        {
          "output_type": "stream",
          "name": "stdout",
          "text": [
            "[  1   2 100   4   5   6   7   8   9  10  11  12  13  14  15  16  17  18\n",
            "  19  20]\n"
          ]
        }
      ]
    },
    {
      "cell_type": "code",
      "source": [
        "var2 = [x for x in a.flat]\n",
        "print(var2)"
      ],
      "metadata": {
        "colab": {
          "base_uri": "https://localhost:8080/"
        },
        "id": "SBpPVsHX2avO",
        "outputId": "4dd67adf-36f8-40d1-b38a-57ed1c20c025"
      },
      "execution_count": 92,
      "outputs": [
        {
          "output_type": "stream",
          "name": "stdout",
          "text": [
            "[1, 2, 3, 4, 5, 6, 7, 8, 9, 10, 11, 12, 13, 14, 15, 16, 17, 18, 19, 20]\n"
          ]
        }
      ]
    },
    {
      "cell_type": "markdown",
      "source": [
        "# Transpose"
      ],
      "metadata": {
        "id": "PWBJuiUw3mxW"
      }
    },
    {
      "cell_type": "code",
      "source": [
        "print(a.transpose())"
      ],
      "metadata": {
        "colab": {
          "base_uri": "https://localhost:8080/"
        },
        "id": "FOf1yiFB3cPL",
        "outputId": "6300096a-2bcd-4ebd-90c4-e01e641029b1"
      },
      "execution_count": 93,
      "outputs": [
        {
          "output_type": "stream",
          "name": "stdout",
          "text": [
            "[[ 1  5  9 13 17]\n",
            " [ 2  6 10 14 18]\n",
            " [ 3  7 11 15 19]\n",
            " [ 4  8 12 16 20]]\n"
          ]
        }
      ]
    },
    {
      "cell_type": "code",
      "source": [
        "print(a.T)"
      ],
      "metadata": {
        "colab": {
          "base_uri": "https://localhost:8080/"
        },
        "id": "4c9cfLYO3pvo",
        "outputId": "c27dfc8d-df47-4382-8262-c7b054964173"
      },
      "execution_count": 94,
      "outputs": [
        {
          "output_type": "stream",
          "name": "stdout",
          "text": [
            "[[ 1  5  9 13 17]\n",
            " [ 2  6 10 14 18]\n",
            " [ 3  7 11 15 19]\n",
            " [ 4  8 12 16 20]]\n"
          ]
        }
      ]
    },
    {
      "cell_type": "code",
      "source": [
        "print(a.swapaxes(0,1))"
      ],
      "metadata": {
        "colab": {
          "base_uri": "https://localhost:8080/"
        },
        "id": "XREA0Cau3sz8",
        "outputId": "ce8b8f47-ffa4-4f16-884d-096e8ad25620"
      },
      "execution_count": 95,
      "outputs": [
        {
          "output_type": "stream",
          "name": "stdout",
          "text": [
            "[[ 1  5  9 13 17]\n",
            " [ 2  6 10 14 18]\n",
            " [ 3  7 11 15 19]\n",
            " [ 4  8 12 16 20]]\n"
          ]
        }
      ]
    },
    {
      "cell_type": "markdown",
      "source": [
        "# Merging Arrays"
      ],
      "metadata": {
        "id": "3zIxeJrH4RRA"
      }
    },
    {
      "cell_type": "markdown",
      "source": [
        "# Concatenating Arrays"
      ],
      "metadata": {
        "id": "7iB_NaB9mBYe"
      }
    },
    {
      "cell_type": "code",
      "source": [
        "a1 = np.array([[1,2,3,4,5],[6,7,8,9,10]])\n",
        "a2 = np.array([[11,12,13,14,15],[16,17,18,19,20]])"
      ],
      "metadata": {
        "id": "xcV-kz-M4VAH"
      },
      "execution_count": 96,
      "outputs": []
    },
    {
      "cell_type": "code",
      "source": [
        "a = np.concatenate((a1, a2), axis=0)\n",
        "print(a)"
      ],
      "metadata": {
        "colab": {
          "base_uri": "https://localhost:8080/"
        },
        "id": "zKRe7VOclMWv",
        "outputId": "00384cdc-8d95-43a6-daa8-97dea0f6157d"
      },
      "execution_count": 97,
      "outputs": [
        {
          "output_type": "stream",
          "name": "stdout",
          "text": [
            "[[ 1  2  3  4  5]\n",
            " [ 6  7  8  9 10]\n",
            " [11 12 13 14 15]\n",
            " [16 17 18 19 20]]\n"
          ]
        }
      ]
    },
    {
      "cell_type": "code",
      "source": [
        "a = np.concatenate((a1, a2), axis=1)\n",
        "print(a)"
      ],
      "metadata": {
        "colab": {
          "base_uri": "https://localhost:8080/"
        },
        "id": "63HBO-4flRWQ",
        "outputId": "6a62b7c6-448b-4b49-c92e-cb333baacb30"
      },
      "execution_count": 98,
      "outputs": [
        {
          "output_type": "stream",
          "name": "stdout",
          "text": [
            "[[ 1  2  3  4  5 11 12 13 14 15]\n",
            " [ 6  7  8  9 10 16 17 18 19 20]]\n"
          ]
        }
      ]
    },
    {
      "cell_type": "markdown",
      "source": [
        "# Stacking"
      ],
      "metadata": {
        "id": "3MfINn0nm0sV"
      }
    },
    {
      "cell_type": "code",
      "source": [
        "a = np.stack((a1, a2), axis=0)\n",
        "print(a)"
      ],
      "metadata": {
        "colab": {
          "base_uri": "https://localhost:8080/"
        },
        "id": "GIw17Q4Elb8e",
        "outputId": "9b21b681-2ae9-4017-c0f5-5af829e1501d"
      },
      "execution_count": 99,
      "outputs": [
        {
          "output_type": "stream",
          "name": "stdout",
          "text": [
            "[[[ 1  2  3  4  5]\n",
            "  [ 6  7  8  9 10]]\n",
            "\n",
            " [[11 12 13 14 15]\n",
            "  [16 17 18 19 20]]]\n"
          ]
        }
      ]
    },
    {
      "cell_type": "code",
      "source": [
        "a = np.stack((a1, a2), axis=1)\n",
        "print(a)"
      ],
      "metadata": {
        "colab": {
          "base_uri": "https://localhost:8080/"
        },
        "id": "GG6GQ4-IljPr",
        "outputId": "49e8c750-a82c-44cf-c43f-d903b5d104df"
      },
      "execution_count": 100,
      "outputs": [
        {
          "output_type": "stream",
          "name": "stdout",
          "text": [
            "[[[ 1  2  3  4  5]\n",
            "  [11 12 13 14 15]]\n",
            "\n",
            " [[ 6  7  8  9 10]\n",
            "  [16 17 18 19 20]]]\n"
          ]
        }
      ]
    },
    {
      "cell_type": "code",
      "source": [
        "a = np.vstack((a1, a2))\n",
        "print(a)"
      ],
      "metadata": {
        "colab": {
          "base_uri": "https://localhost:8080/"
        },
        "id": "OJ9QwhczlmUU",
        "outputId": "34eb1852-1ad0-4898-af13-82b5de5db56d"
      },
      "execution_count": 101,
      "outputs": [
        {
          "output_type": "stream",
          "name": "stdout",
          "text": [
            "[[ 1  2  3  4  5]\n",
            " [ 6  7  8  9 10]\n",
            " [11 12 13 14 15]\n",
            " [16 17 18 19 20]]\n"
          ]
        }
      ]
    },
    {
      "cell_type": "code",
      "source": [
        "a = np.hstack((a1, a2))\n",
        "print(a)"
      ],
      "metadata": {
        "colab": {
          "base_uri": "https://localhost:8080/"
        },
        "id": "q86U3dIClr6K",
        "outputId": "0e2457c5-98d0-4737-bed0-b79c95c71248"
      },
      "execution_count": 102,
      "outputs": [
        {
          "output_type": "stream",
          "name": "stdout",
          "text": [
            "[[ 1  2  3  4  5 11 12 13 14 15]\n",
            " [ 6  7  8  9 10 16 17 18 19 20]]\n"
          ]
        }
      ]
    },
    {
      "cell_type": "markdown",
      "source": [
        "# Splitting Arrays"
      ],
      "metadata": {
        "id": "zvWvf58QmE_F"
      }
    },
    {
      "cell_type": "code",
      "source": [
        "print(np.split(a, 2, axis=0))"
      ],
      "metadata": {
        "colab": {
          "base_uri": "https://localhost:8080/"
        },
        "id": "I9ReRWR1mK_k",
        "outputId": "a840bfae-8b70-4587-8d0d-5687f1d4277a"
      },
      "execution_count": 103,
      "outputs": [
        {
          "output_type": "stream",
          "name": "stdout",
          "text": [
            "[array([[ 1,  2,  3,  4,  5, 11, 12, 13, 14, 15]]), array([[ 6,  7,  8,  9, 10, 16, 17, 18, 19, 20]])]\n"
          ]
        }
      ]
    },
    {
      "cell_type": "code",
      "source": [
        "print(np.split(a, 2, axis=1))"
      ],
      "metadata": {
        "colab": {
          "base_uri": "https://localhost:8080/"
        },
        "id": "GNjAPcRCmSkx",
        "outputId": "67742042-e0c8-42f3-8105-0c62cbdbbea6"
      },
      "execution_count": 104,
      "outputs": [
        {
          "output_type": "stream",
          "name": "stdout",
          "text": [
            "[array([[ 1,  2,  3,  4,  5],\n",
            "       [ 6,  7,  8,  9, 10]]), array([[11, 12, 13, 14, 15],\n",
            "       [16, 17, 18, 19, 20]])]\n"
          ]
        }
      ]
    },
    {
      "cell_type": "markdown",
      "source": [
        "# Aggregate Functions"
      ],
      "metadata": {
        "id": "5q5L3Q_Wm2eQ"
      }
    },
    {
      "cell_type": "code",
      "source": [
        "a.min()"
      ],
      "metadata": {
        "colab": {
          "base_uri": "https://localhost:8080/"
        },
        "id": "WlziL81mm5V8",
        "outputId": "5d4cf3dd-cce9-40d3-ad5b-766ff9b7023b"
      },
      "execution_count": 105,
      "outputs": [
        {
          "output_type": "execute_result",
          "data": {
            "text/plain": [
              "1"
            ]
          },
          "metadata": {},
          "execution_count": 105
        }
      ]
    },
    {
      "cell_type": "code",
      "source": [
        "a.max()"
      ],
      "metadata": {
        "colab": {
          "base_uri": "https://localhost:8080/"
        },
        "id": "Kv2-89BjnKJo",
        "outputId": "3d310d08-edf3-430b-94bb-870aaa7fad19"
      },
      "execution_count": 108,
      "outputs": [
        {
          "output_type": "execute_result",
          "data": {
            "text/plain": [
              "20"
            ]
          },
          "metadata": {},
          "execution_count": 108
        }
      ]
    },
    {
      "cell_type": "code",
      "source": [
        "a.mean()"
      ],
      "metadata": {
        "colab": {
          "base_uri": "https://localhost:8080/"
        },
        "id": "lY-YLUgMnMNb",
        "outputId": "4b4a7881-836b-4777-ace1-891c8d56978b"
      },
      "execution_count": 109,
      "outputs": [
        {
          "output_type": "execute_result",
          "data": {
            "text/plain": [
              "10.5"
            ]
          },
          "metadata": {},
          "execution_count": 109
        }
      ]
    },
    {
      "cell_type": "code",
      "source": [
        "a.sum()"
      ],
      "metadata": {
        "colab": {
          "base_uri": "https://localhost:8080/"
        },
        "id": "aJUe1CLrnYpc",
        "outputId": "f6acde7e-93b9-46e9-a125-494ffddfe878"
      },
      "execution_count": 115,
      "outputs": [
        {
          "output_type": "execute_result",
          "data": {
            "text/plain": [
              "210"
            ]
          },
          "metadata": {},
          "execution_count": 115
        }
      ]
    },
    {
      "cell_type": "code",
      "source": [
        "a.std()"
      ],
      "metadata": {
        "colab": {
          "base_uri": "https://localhost:8080/"
        },
        "id": "L9j5i98snNxe",
        "outputId": "f11df4a0-6937-4cf9-f71d-a6f0b988ffe2"
      },
      "execution_count": 110,
      "outputs": [
        {
          "output_type": "execute_result",
          "data": {
            "text/plain": [
              "5.766281297335398"
            ]
          },
          "metadata": {},
          "execution_count": 110
        }
      ]
    },
    {
      "cell_type": "code",
      "source": [
        "np.median(a)"
      ],
      "metadata": {
        "colab": {
          "base_uri": "https://localhost:8080/"
        },
        "id": "VniQoeH2nPtf",
        "outputId": "092ee835-a771-430c-c755-4224a805acbe"
      },
      "execution_count": 114,
      "outputs": [
        {
          "output_type": "execute_result",
          "data": {
            "text/plain": [
              "10.5"
            ]
          },
          "metadata": {},
          "execution_count": 114
        }
      ]
    },
    {
      "cell_type": "markdown",
      "source": [
        "# Random"
      ],
      "metadata": {
        "id": "xJxZtYSkn4oQ"
      }
    },
    {
      "cell_type": "code",
      "source": [
        "np.random.randint(100)"
      ],
      "metadata": {
        "colab": {
          "base_uri": "https://localhost:8080/"
        },
        "id": "zUDJrEgengKU",
        "outputId": "6a646bb1-630b-4eac-d074-af3074501251"
      },
      "execution_count": 116,
      "outputs": [
        {
          "output_type": "execute_result",
          "data": {
            "text/plain": [
              "61"
            ]
          },
          "metadata": {},
          "execution_count": 116
        }
      ]
    },
    {
      "cell_type": "code",
      "source": [
        "np.random.randint(100, size=(5, 5))"
      ],
      "metadata": {
        "colab": {
          "base_uri": "https://localhost:8080/"
        },
        "id": "4IKaUJoDnkRM",
        "outputId": "ae8f2818-fb4e-4e69-91f8-0c86a7cb27e7"
      },
      "execution_count": 117,
      "outputs": [
        {
          "output_type": "execute_result",
          "data": {
            "text/plain": [
              "array([[86, 59, 61, 72, 37],\n",
              "       [86, 35, 91, 79, 32],\n",
              "       [ 8, 55, 31, 45,  1],\n",
              "       [82, 24, 43, 42, 92],\n",
              "       [94, 98, 67,  4, 38]])"
            ]
          },
          "metadata": {},
          "execution_count": 117
        }
      ]
    },
    {
      "cell_type": "code",
      "source": [
        "np.random.randint(80, 100, size=(5, 5))"
      ],
      "metadata": {
        "colab": {
          "base_uri": "https://localhost:8080/"
        },
        "id": "4SZvSuUyn-1v",
        "outputId": "852143c8-0665-47e1-9571-3771a4b7d2fe"
      },
      "execution_count": 119,
      "outputs": [
        {
          "output_type": "execute_result",
          "data": {
            "text/plain": [
              "array([[92, 90, 80, 86, 86],\n",
              "       [88, 89, 89, 81, 97],\n",
              "       [99, 95, 88, 85, 87],\n",
              "       [96, 84, 94, 84, 84],\n",
              "       [92, 98, 83, 90, 85]])"
            ]
          },
          "metadata": {},
          "execution_count": 119
        }
      ]
    },
    {
      "cell_type": "code",
      "source": [
        "np.random.binomial(10, p=0.5, size=(5, 5))"
      ],
      "metadata": {
        "colab": {
          "base_uri": "https://localhost:8080/"
        },
        "id": "ukopcts1oHtU",
        "outputId": "76429e4a-bd6a-43a0-b39e-432fe4b3d172"
      },
      "execution_count": 120,
      "outputs": [
        {
          "output_type": "execute_result",
          "data": {
            "text/plain": [
              "array([[3, 5, 5, 9, 5],\n",
              "       [7, 3, 5, 4, 4],\n",
              "       [5, 4, 3, 8, 6],\n",
              "       [3, 2, 4, 3, 8],\n",
              "       [7, 6, 5, 5, 5]])"
            ]
          },
          "metadata": {},
          "execution_count": 120
        }
      ]
    },
    {
      "cell_type": "code",
      "source": [
        "np.random.normal(loc=165, scale=10, size=(5, 5))"
      ],
      "metadata": {
        "colab": {
          "base_uri": "https://localhost:8080/"
        },
        "id": "ly4FB8XNoQPq",
        "outputId": "7462ce46-3ad2-417d-f7a4-483e7a70768d"
      },
      "execution_count": 123,
      "outputs": [
        {
          "output_type": "execute_result",
          "data": {
            "text/plain": [
              "array([[168.09006969, 155.67663546, 162.76770099, 171.86657563,\n",
              "        173.39256459],\n",
              "       [176.53277504, 151.7100075 , 151.97549925, 171.16311197,\n",
              "        160.53939711],\n",
              "       [164.8203894 , 171.11355591, 148.6069657 , 161.85522747,\n",
              "        180.66335449],\n",
              "       [174.39068907, 162.84632316, 150.50768816, 162.23025484,\n",
              "        152.61820938],\n",
              "       [179.82742437, 166.81895668, 170.3576593 , 165.53864543,\n",
              "        158.6823427 ]])"
            ]
          },
          "metadata": {},
          "execution_count": 123
        }
      ]
    },
    {
      "cell_type": "code",
      "source": [
        "randa = np.random.choice(np.random.randint(100, size=(10, )), size=(5, 5))\n",
        "randa"
      ],
      "metadata": {
        "colab": {
          "base_uri": "https://localhost:8080/"
        },
        "id": "Iih9XhDVohC5",
        "outputId": "ed60901b-04d1-42c6-992e-0d26fc879f59"
      },
      "execution_count": 126,
      "outputs": [
        {
          "output_type": "execute_result",
          "data": {
            "text/plain": [
              "array([[75, 75, 75, 29, 41],\n",
              "       [97, 97, 48, 75, 48],\n",
              "       [75, 97, 48,  9, 56],\n",
              "       [50, 41, 97, 48, 48],\n",
              "       [97, 75,  6, 97,  9]])"
            ]
          },
          "metadata": {},
          "execution_count": 126
        }
      ]
    },
    {
      "cell_type": "markdown",
      "source": [
        "# Exporting and Importing"
      ],
      "metadata": {
        "id": "s2bMwCb8o75U"
      }
    },
    {
      "cell_type": "code",
      "source": [
        "np.save(\"myarray.npy\", randa)"
      ],
      "metadata": {
        "id": "0_bsYBdmo7dM"
      },
      "execution_count": 128,
      "outputs": []
    },
    {
      "cell_type": "code",
      "source": [
        "from google.colab import drive\n",
        "drive.mount('/content/drive')"
      ],
      "metadata": {
        "colab": {
          "base_uri": "https://localhost:8080/"
        },
        "id": "5a-U6UAGpTsx",
        "outputId": "524cb46b-a257-4d81-fa9f-447f5b58d5a5"
      },
      "execution_count": 129,
      "outputs": [
        {
          "output_type": "stream",
          "name": "stdout",
          "text": [
            "Mounted at /content/drive\n"
          ]
        }
      ]
    },
    {
      "cell_type": "code",
      "source": [
        "a = np.load(\"myarray.npy\")\n",
        "a"
      ],
      "metadata": {
        "colab": {
          "base_uri": "https://localhost:8080/"
        },
        "id": "2h5L93B2pdS_",
        "outputId": "99f83d36-9f38-4021-a5c1-0228a4fad189"
      },
      "execution_count": 130,
      "outputs": [
        {
          "output_type": "execute_result",
          "data": {
            "text/plain": [
              "array([[75, 75, 75, 29, 41],\n",
              "       [97, 97, 48, 75, 48],\n",
              "       [75, 97, 48,  9, 56],\n",
              "       [50, 41, 97, 48, 48],\n",
              "       [97, 75,  6, 97,  9]])"
            ]
          },
          "metadata": {},
          "execution_count": 130
        }
      ]
    },
    {
      "cell_type": "code",
      "source": [
        "np.savetxt(\"myarray.csv\", randa, delimiter=\",\")"
      ],
      "metadata": {
        "id": "RfU8UQDDpnLM"
      },
      "execution_count": 131,
      "outputs": []
    },
    {
      "cell_type": "code",
      "source": [
        "b = np.loadtxt(\"myarray.csv\", delimiter=\",\")\n",
        "b"
      ],
      "metadata": {
        "colab": {
          "base_uri": "https://localhost:8080/"
        },
        "id": "m_3N9yKEptiT",
        "outputId": "3be5039a-d507-453a-e03f-6c9118b5cc19"
      },
      "execution_count": 132,
      "outputs": [
        {
          "output_type": "execute_result",
          "data": {
            "text/plain": [
              "array([[75., 75., 75., 29., 41.],\n",
              "       [97., 97., 48., 75., 48.],\n",
              "       [75., 97., 48.,  9., 56.],\n",
              "       [50., 41., 97., 48., 48.],\n",
              "       [97., 75.,  6., 97.,  9.]])"
            ]
          },
          "metadata": {},
          "execution_count": 132
        }
      ]
    }
  ]
}